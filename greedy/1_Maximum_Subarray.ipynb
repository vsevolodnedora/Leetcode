{
 "cells": [
  {
   "cell_type": "markdown",
   "metadata": {},
   "source": [
    "# 53. Maximum Subarray\n",
    "\n",
    "[leetcode](https://leetcode.com/problems/maximum-subarray/description/)\n",
    "\n",
    "Given an integer array nums, find the \n",
    "subarray with the largest sum, and return its sum.\n",
    "\n",
    "# Reasoning\n",
    "\n",
    "[neetcodevideo](https://www.youtube.com/watch?v=5WZl3MMT0Eg&t=1s&ab_channel=NeetCode)\n",
    "\n",
    "Ever every subarray calculation, starting at each point and ending at each separate point, the time complexity will be O(n^3) ( two nested for loops )\n",
    "```python\n",
    "for i in range(0,n-1):\n",
    "    for j in range(i, n-1):\n",
    "        for k in range(i,j):\n",
    "            sum_ = sum(arr[i:j])\n",
    "```\n",
    "\n",
    "The most obvious simplification is to save result of suarrays and reuse it from hash maps\n",
    "```python\n",
    "for i in range(0,n-1):\n",
    "    for j in range(i, n-1):\n",
    "        cumsum = num[j]\n",
    "```\n",
    "This algorithm is O(n^2). \n",
    "\n",
    "Note, the question is whether we need to consider every single value. We need the maximum, so we need to avoid negative values. If we start at negative, it is a bad start. If there is a negative nubmer we can _remove_ parts of the input array that we do not need. WE keep track on a total sum. If there is a large positive value, we keep it and keep the following values untill the value starts to drop. This is like a _sliding window_ and a linear time complexity problem O(n). \n",
    "\n",
    "> Each time there is a negative value, we remove it \n",
    "\n",
    "\n"
   ]
  },
  {
   "cell_type": "code",
   "execution_count": null,
   "metadata": {},
   "outputs": [],
   "source": [
    "from typing import List\n",
    "class Solution:\n",
    "    def maxSubArray(self, nums: List[int]) -> int:\n",
    "        max_sum = nums[0] # default value for a sumarray\n",
    "        curr_sum = 0\n",
    "        for n in nums:\n",
    "            # if ngative we remove from cursum\n",
    "            if curr_sum < 0:\n",
    "                curr_sum = 0\n",
    "            curr_sum += n\n",
    "            max_sum = max(max_sum, curr_sum)\n",
    "        return max_sum"
   ]
  }
 ],
 "metadata": {
  "language_info": {
   "name": "python"
  }
 },
 "nbformat": 4,
 "nbformat_minor": 2
}
