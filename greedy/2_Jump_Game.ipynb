{
 "cells": [
  {
   "cell_type": "markdown",
   "metadata": {},
   "source": [
    "# 55. Jump Game\n",
    "\n",
    "[leetcode](https://leetcode.com/problems/jump-game/description/)\n",
    "\n",
    "You are given an integer array nums. You are initially positioned at the array's first index, and each element in the array represents your maximum jump length at that position.\n",
    "\n",
    "Return true if you can reach the last index, or false otherwise.\n",
    "\n",
    "# Reasoning\n",
    "\n",
    "[neetcodevideo](https://www.youtube.com/watch?v=Yan0cv2cLy8&ab_channel=NeetCode)\n",
    "\n",
    "This problem can be solved with DP and Greedy approach.  \n",
    "\n",
    "Each number is a _max jump length_, meaning that we can choose how far to jump.  \n",
    "Consider _every possible path_ from a given step to the end.  \n",
    "\n",
    "Consider [3,2,1,0,4]  indexes [0,1,2,3,4]\n",
    "Start building a tree at index 0. It has 3, 2, 1 options (branches). Then jumps: \n",
    "- 3 -> 3 -> dead end (zero does not lead anywhere)\n",
    "- 2 -> 2 -> 3 -> dead end\n",
    "- 1 -> 1 -> 2 or 3 (dead end) -> 2 (solution)\n",
    "\n",
    "After, we can repeat choosing a jump at each point.  \n",
    "\n",
    "This brute-force solution is O(n^n). We can casch it and have O(n^2) solution. Greedy solution is O(n). \n",
    "\n",
    "Note, we wisited the same index _more than once_, so we can cache this silution. \n",
    "We can use \n",
    "__DP[2] = False__ -- meaning that we visited and False as it does not lead to the end. \n",
    "\n",
    "\n",
    "#### Greedy solutions\n",
    "\n",
    "Consider the end and a path to the beginning. Check ech adjacent position to the the end and check if the next position is reachable. If the previos-to-next is reachable, than we can move further. In some sense we are shifting the 'goal' if the previous goal is reachable:\n",
    "\n",
    "[2, <- 3, <- 1, <- 1, <- 4]\n",
    "\n",
    "Note, that the longest jumps or the shortest paths _are not required here_, we just need to see if the path is traversable. This is sufficinet to analyze only adjacent points.  \n",
    "\n"
   ]
  },
  {
   "cell_type": "code",
   "execution_count": null,
   "metadata": {},
   "outputs": [],
   "source": [
    "from typing import List\n",
    "class Solution:\n",
    "    def canJump(self, nums: List[int]) -> bool:\n",
    "        # check goal\n",
    "        goal = len(nums)-1\n",
    "        for i in range(len(nums)-1,-1,-1):\n",
    "            # check if jump is reachable to goal\n",
    "            if (i+nums[i] >= goal):\n",
    "                goal = i # if goal is reachable we shift it here\n",
    "        # goal reaches 0 we reached te end\n",
    "        return True if (goal == 0) else False"
   ]
  }
 ],
 "metadata": {
  "language_info": {
   "name": "python"
  }
 },
 "nbformat": 4,
 "nbformat_minor": 2
}
