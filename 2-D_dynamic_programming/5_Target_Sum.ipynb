{
 "cells": [
  {
   "cell_type": "markdown",
   "metadata": {},
   "source": [
    "# 494. Target Sum\n",
    "\n",
    "[leetcode](https://leetcode.com/problems/target-sum/description/)\n",
    "\n",
    "You are given an integer array nums and an integer target.\n",
    "\n",
    "You want to build an expression out of nums by adding one of the symbols '+' and '-' before each integer in nums and then concatenate all the integers.\n",
    "\n",
    "For example, if nums = [2, 1], you can add a '+' before 2 and a '-' before 1 and concatenate them to build the expression \"+2-1\".\n",
    "Return the number of different expressions that you can build, which evaluates to target.\n",
    "\n",
    "# Reasoning\n",
    "\n",
    "[neetcodevideo](https://www.youtube.com/watch?v=g0npyaQtAQM&t=1s&ab_channel=NeetCode)\n",
    "\n",
    "The order of operation matters, so we need to count permutations. \n",
    "\n",
    "Brute-force solution is O(2^n).  \n",
    "\n",
    "For [1,1,1,1,1,1] we can start building decision tree.  \n",
    "We start at index i=0 and move to the left making a choice at every addition.  \n",
    "Initial value is also 0. So that we (0,0) -> wo options +1 or -1 -> (1,1) or (1,-1).   \n",
    "\n",
    "At the next iteration, we repeat the tree branch. As soon as we are out of bounds, we stop. We add this path of the decision tree to the asnwer. The tree has hight n and it has two bracnhes -> time complexity O(2^n). \n",
    "\n",
    "We can optimized the solution using `cashing` to store what DFS evaluates. Than, if DFS is called again on the same input, we can use the cashed value instead of computing it"
   ]
  },
  {
   "cell_type": "code",
   "execution_count": null,
   "metadata": {},
   "outputs": [],
   "source": [
    "from typing import List\n",
    "class Solution:\n",
    "    def findTargetSumWays(self, nums: List[int], target: int) -> int:\n",
    "        dp = {} # casch (index, total) -> # number of ways we can get to the target\n",
    "        # recursive function\n",
    "        def backtrack(i, total):\n",
    "            # base case (end of array)\n",
    "            if (i==len(nums)):\n",
    "                return 1 if total == target else 0 # if it is a way or not\n",
    "            if ((i,total) in dp):\n",
    "                return dp[(i,total)]\n",
    "            # recusive part\n",
    "            dp[(i,total)] = backtrack(i+1,total+nums[i]) # add value at index i\n",
    "            dp[(i,total)] += backtrack(i+1, total-nums[i]) # substract branch\n",
    "            # this gives us total number of ways for both branches\n",
    "            return dp[(i,total)]\n",
    "        res = backtrack(0,0)\n",
    "        return res\n",
    "            "
   ]
  }
 ],
 "metadata": {
  "language_info": {
   "name": "python"
  }
 },
 "nbformat": 4,
 "nbformat_minor": 2
}
