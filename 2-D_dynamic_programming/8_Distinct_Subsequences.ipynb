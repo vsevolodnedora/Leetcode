{
 "cells": [
  {
   "cell_type": "markdown",
   "metadata": {},
   "source": [
    "# 115. Distinct Subsequences\n",
    "\n",
    "[leetcode](https://leetcode.com/problems/distinct-subsequences/description/)\n",
    "\n",
    "Given two strings s and t, return the number of distinct subsequences of s which equals t.\n",
    "\n",
    "The test cases are generated so that the answer fits on a 32-bit signed integer.\n",
    "\n",
    "# Reasoning\n",
    "\n",
    "[neetcodevideo](https://www.youtube.com/watch?v=-RDzMJ33nx8&t=1s&ab_channel=NeetCode)\n",
    "\n",
    "Consider example of s = rabbbbit and rabbit; \n",
    "and how many subsequences of s can match s. We start with first character. It matches. We consder two ; the match; we conisder 3 they match; but when we consider 4 chars, we see a mismatch. Before we were incrementing both indeces corresponding these two strings. \n",
    "When there is a mismatch we need to increment the pointer of s i_s; to move as we need to match every character of string t.  \n",
    "\n",
    "We skip one char and move forward. Once we get a match, we increment both pointrs again. \n",
    "- If chars match -- two pointers ++\n",
    "- If chars mismatch -- only one char ++ (i_s)\n",
    "\n",
    "Note. In case of repeating characters, we can skip it and use another char. Thus we may have several ways a substring can be matched. \n",
    "\n",
    "Note we can use cash to avoid using repeated value. The space complexity is O(n*m)\n",
    "\n",
    "This is the same for time complexity. \n",
    "\n",
    "This is recurisce solution.  \n",
    "\n",
    "If s is empty -- return \"\" \n",
    "if 't' is not empty; we canpt get 't' if 's' is empty. We return 0\n"
   ]
  },
  {
   "cell_type": "code",
   "execution_count": null,
   "metadata": {},
   "outputs": [],
   "source": [
    "class Solution:\n",
    "    def numDistinct(self, s: str, t: str) -> int:\n",
    "        # use cahs\n",
    "        cache = {}\n",
    "        # defien dfs\n",
    "        def dfs(i, j):\n",
    "            \"\"\"  \"\"\"\n",
    "            # base case \n",
    "            if (j == len(t)):\n",
    "                return 1\n",
    "            if i == len(s):\n",
    "                return 0\n",
    "            if (i,j) in cache:\n",
    "                return cache[(i,j)]\n",
    "            if (s[i] == t[j]):\n",
    "                # run DFS on the remainder of two strings\n",
    "                cache[(i,j)] = dfs(i+1,j+1) + dfs(i+1,j)\n",
    "            else:\n",
    "                # if not match; cncrement one\n",
    "                cache[(i,j)] = dfs(i+1,j)\n",
    "            return cache[(i,j)]\n",
    "        return dfs(0,0)"
   ]
  }
 ],
 "metadata": {
  "language_info": {
   "name": "python"
  }
 },
 "nbformat": 4,
 "nbformat_minor": 2
}
