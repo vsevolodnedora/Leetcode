{
 "cells": [
  {
   "cell_type": "markdown",
   "metadata": {},
   "source": [
    "# 62. Unique Paths\n",
    "\n",
    "[leetcode](https://leetcode.com/problems/unique-paths/description/)\n",
    "\n",
    "There is a robot on an m x n grid. The robot is initially located at the top-left corner (i.e., grid[0][0]). The robot tries to move to the bottom-right corner (i.e., grid[m - 1][n - 1]). The robot can only move either down or right at any point in time.\n",
    "\n",
    "Given the two integers m and n, return the number of possible unique paths that the robot can take to reach the bottom-right corner.\n",
    "\n",
    "The test cases are generated so that the answer will be less than or equal to 2 * 109.\n",
    "\n",
    "# Reasoning\n",
    "\n",
    "[neetcodevideo](https://www.youtube.com/watch?v=IlEsdxuD4lY&embeds_referring_euri=https%3A%2F%2Fneetcode.io%2F&source_ve_path=Mjg2NjY&feature=emb_logo)\n",
    "\n",
    "This is simple 2D DP problem. We always start in the same place and have to end in the same place.  \n",
    "__NOTE__ this problem is similar to he recursive problem. However, notice, that once a decision is made on where to move, a part of the grid __mecomes unavaiable__.  \n",
    "At every turn we have 2 choices.  \n",
    "__NOTICE__ we can arrive to the same place via different paths. Thus, there is repeated work.  \n",
    "Thus, we can `hash` the path once we reach a position.  \n",
    "Then if we are at this point again we can re-use it.  \n",
    "Thus requires filling the _n of paths_ for each value of the grid.  \n",
    "\n",
    "The base case is the _end position_. We can define the number of ways to get to it from it itself is 1.  Then we proceed with neighbours and add 1 neighbours that are valid and 0 to those that are out-of-bounds.  \n",
    "\n",
    "We do this row by row as \n",
    "[\n",
    "    [6+15,5+10,4+6,3+3,1+2,1]\n",
    "    [ 8, 7, 6, 5, 4, 3, 2, 1]\n",
    "    [ 1, 1, 1, 1, 1, 1, 1, 1]\n",
    "]\n",
    "where 2 is the 2 unique paths.  \n",
    "\n",
    "Note, this can be computed with math equation in O(1).  "
   ]
  },
  {
   "cell_type": "code",
   "execution_count": null,
   "metadata": {},
   "outputs": [],
   "source": [
    "\n",
    "class Solution:\n",
    "    def uniquePaths(self, m: int, n: int) -> int:\n",
    "        # bottom row -- always all 1\n",
    "        row = [1] * n \n",
    "        for i in range(m - 1): # go thorugh other rows\n",
    "            new_row = [1] * n # \n",
    "            # avoi checking out of bounds\n",
    "            for j in range(n-2,-1,-1):\n",
    "                new_row[j] = new_row[j+1] + row[j] # right + below\n",
    "            row = new_row\n",
    "        return row[0] # the total number of paths"
   ]
  }
 ],
 "metadata": {
  "language_info": {
   "name": "python"
  }
 },
 "nbformat": 4,
 "nbformat_minor": 2
}
