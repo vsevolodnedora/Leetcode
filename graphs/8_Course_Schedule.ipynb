{
 "cells": [
  {
   "cell_type": "markdown",
   "metadata": {},
   "source": [
    "# 207. Course Schedule\n",
    "\n",
    "[leetcode](https://leetcode.com/problems/course-schedule/description/)\n",
    "\n",
    "There are a total of numCourses courses you have to take, labeled from 0 to numCourses - 1. You are given an array prerequisites where prerequisites[i] = [ai, bi] indicates that you must take course bi first if you want to take course ai.\n",
    "\n",
    "For example, the pair [0, 1], indicates that to take course 0 you have to first take course 1.\n",
    "Return true if you can finish all courses. Otherwise, return false.\n",
    "\n",
    "# Reasoning\n",
    "\n",
    "[neetcodevideo](https://www.youtube.com/watch?v=EgI5nU9etnU)\n",
    "\n",
    "__NOTE__ here there are edges in the graph: a 'prerequesite' is an edge that goes from the course that we need to take to the course that is required. So in [[0,1]] there is 0 <- 1. \n",
    "\n",
    "if there are not outbound edges from the prereesite, than the schedule is posible to complete. \n",
    "\n",
    "On the other hand, if [[1,0],[0,1]] which leads to graph 0 <-> 1 where __there is cycle__. This is an imposable schedule.  \n",
    "\n",
    "This problem requires graph traversal, and both DFS and BFS are possible. We consider the __DFS__ solution here. \n",
    "\n",
    "Essencially, we need to check of a graph does not have loops and that number of traversals is below 'n'.  \n",
    "\n",
    "__NOTE__; in order to check if a graph has leafs we can use `adjecency list` data structure, which we represent as a hash map. This is done via a map [course : list[prerequesits]]  \n",
    "Collecting this data for each course we can see which courses do not prerequesits. \n",
    "\n",
    "The final algorithm involves running a DFS starting at a 0th node `recursively` untill no more pre-requesits remain.  Then we recursively go back and check if we visited all the prereqesets.  \n",
    "\n",
    "We remove all the course that can be completed from the adjecency list.  \n",
    "\n",
    "Once the list is empty we know we can complete all the curse.  \n",
    "\n",
    "The time complexity of the O(n+p), where p is the number of prerequesites. \n",
    "\n",
    "__NOTE__ detecting a loop in the graph, we use a `set` data structure, e.g., the _visit set_. It contains the list of courses that we visited moving along the DFS. If we encounter a course that we already saw, we return false. \n"
   ]
  },
  {
   "cell_type": "code",
   "execution_count": 1,
   "metadata": {},
   "outputs": [],
   "source": [
    "from typing import List\n",
    "class Solution:\n",
    "    def canFinish(self, numCourses: int, prerequisites: List[List[int]]) -> bool:\n",
    "        # define a map, adjacency list (empty list for each)\n",
    "        pre_map = { i : [] for i in range(numCourses)}\n",
    "        for crs, pre in prerequisites:\n",
    "            pre_map[crs].append(pre)\n",
    "        # create visited set 9along the current DFS path\n",
    "        visited = set()\n",
    "        # define dfs\n",
    "        def dfs(crs):\n",
    "            # check base cases\n",
    "            if crs in visited:\n",
    "                # we found a loop\n",
    "                return False\n",
    "            # check if pre-requesites is the empty list\n",
    "            if pre_map[crs] == []:\n",
    "                return True\n",
    "            # traverse the path along this course\n",
    "            visited.add(crs)\n",
    "            # loop over all courses requied for this course\n",
    "            for pre in pre_map[crs]:\n",
    "                # if we cannot complete any of the courses we can return false\n",
    "                if not dfs(pre):\n",
    "                    return False\n",
    "            # remove the successfull course\n",
    "            visited.remove(crs)\n",
    "            # we can also update the pre_map\n",
    "            pre_map[crs] = [] # so we do not need to repeat the DFS for course that we can complete\n",
    "            return True\n",
    "        # call the DFS for every single course (in case the graph is not fully connected)\n",
    "        # so that we include all \"sub-graphs\" in case some of them do not connect to each other\n",
    "        for crs in range(numCourses):\n",
    "            if not dfs(crs): return False\n",
    "        return True\n",
    "                            \n",
    "\n",
    "        "
   ]
  },
  {
   "cell_type": "code",
   "execution_count": null,
   "metadata": {},
   "outputs": [],
   "source": []
  }
 ],
 "metadata": {
  "kernelspec": {
   "display_name": "Python 3",
   "language": "python",
   "name": "python3"
  },
  "language_info": {
   "codemirror_mode": {
    "name": "ipython",
    "version": 3
   },
   "file_extension": ".py",
   "mimetype": "text/x-python",
   "name": "python",
   "nbconvert_exporter": "python",
   "pygments_lexer": "ipython3",
   "version": "3.10.12"
  }
 },
 "nbformat": 4,
 "nbformat_minor": 2
}
