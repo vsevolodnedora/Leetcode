{
 "cells": [
  {
   "cell_type": "markdown",
   "metadata": {},
   "source": [
    "# 994. Rotting Oranges\n",
    "\n",
    "[leetcode](https://leetcode.com/problems/rotting-oranges/description/)\n",
    "\n",
    "You are given an m x n grid where each cell can have one of three values:\n",
    "\n",
    "0 representing an empty cell,\n",
    "1 representing a fresh orange, or\n",
    "2 representing a rotten orange.\n",
    "Every minute, any fresh orange that is 4-directionally adjacent to a rotten orange becomes rotten.\n",
    "\n",
    "Return the minimum number of minutes that must elapse until no cell has a fresh orange. If this is impossible, return -1.\n",
    "\n",
    "# Reasoning\n",
    "\n",
    "[neetcodevideo](https://www.youtube.com/watch?v=y704fEOx0s0&t=10s)\n",
    "\n",
    "The first graph algorithm, DFS, would not quite work, as multiple rotten oranges will make their \"passage\" simultanously, so it would take less time if there are more of them. Starting a DFS from one of them would not capture is that.  \n",
    "Here we need to use a `multisourced BFS` __simultanously__ on multiple sources. This is done with a `queue` data structure. We add initial rotten oranges there and we pop from the qeue as we advance the time.  \n",
    "\n",
    "The time complexity of the algorithm is O(n*m)\n",
    "\n",
    "__NOTE__ in this algorithm, we pop _multiple values_ at the same time.  \n",
    "__NOTE__ we cannot just stop when the queue is empty. We need to keep track also on how many there are fresh oranges initially. If this numer > 0 when the BFS is done, we return -1. \n",
    "\n"
   ]
  },
  {
   "cell_type": "code",
   "execution_count": 1,
   "metadata": {},
   "outputs": [],
   "source": [
    "from typing import List\n",
    "from collections import deque\n",
    "class Solution:\n",
    "    def orangesRotting(self, grid: List[List[int]]) -> int:\n",
    "        # init the deque\n",
    "        q = deque()\n",
    "        time, freqsh = 0, 0\n",
    "        rows, cols= len(grid), len(grid[0])\n",
    "        # iterate over the entire grid\n",
    "        for r in range(rows):\n",
    "            for c in range(cols):\n",
    "                # count the number of fresh oranges\n",
    "                if grid[r][c] == 1: freqsh += 1\n",
    "                # identify all rotten to add them to the queeu\n",
    "                if grid[r][c] == 2: q.append((r,c))\n",
    "        # run BFS until queue and fresh left\n",
    "        while q and freqsh > 0:\n",
    "            # Pop all the rotten oranges and add adjacent to the queue\n",
    "            for i in range(len(q)): # fix the lengh of the loop\n",
    "                r, c = q.popleft() # po oldest added\n",
    "                # go through all adjacent spots\n",
    "                adjacent = ((-1,0),(0,-1),(1,0),(0,1))\n",
    "                for dr, dc in adjacent:\n",
    "                    r_, c_ = r+dr, c+dc\n",
    "                    # check if in bounds and check if fresh \n",
    "                    if (r_<0 or r_ == rows or c_ < 0 or c_ == cols or grid[r_][c_] != 1):\n",
    "                        continue\n",
    "                    # convert orange\n",
    "                    grid[r_][c_] = 2\n",
    "                    # add to queie\n",
    "                    q.append((r_,c_))\n",
    "                    freqsh-=1\n",
    "            # one unit of time\n",
    "            time += 1\n",
    "        return time if freqsh == 0 else -1"
   ]
  },
  {
   "cell_type": "code",
   "execution_count": null,
   "metadata": {},
   "outputs": [],
   "source": []
  }
 ],
 "metadata": {
  "kernelspec": {
   "display_name": "Python 3",
   "language": "python",
   "name": "python3"
  },
  "language_info": {
   "codemirror_mode": {
    "name": "ipython",
    "version": 3
   },
   "file_extension": ".py",
   "mimetype": "text/x-python",
   "name": "python",
   "nbconvert_exporter": "python",
   "pygments_lexer": "ipython3",
   "version": "3.10.12"
  }
 },
 "nbformat": 4,
 "nbformat_minor": 2
}
