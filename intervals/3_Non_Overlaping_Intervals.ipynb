{
 "cells": [
  {
   "cell_type": "markdown",
   "metadata": {},
   "source": [
    "# 435. Non-overlapping Intervals\n",
    "\n",
    "[leetcode](https://leetcode.com/problems/non-overlapping-intervals/)\n",
    "\n",
    "Given an array of intervals intervals where intervals[i] = [starti, endi], return the minimum number of intervals you need to remove to make the rest of the intervals non-overlapping.\n",
    "\n",
    "# Reasoning\n",
    "\n",
    "[neetcodevideo](https://www.youtube.com/watch?v=nONCGxWoUfM&t=1s)\n",
    "\n",
    "This problem is for Blind75 list. \n",
    "\n",
    "Given an array of intervals. We need to return a _minimum_ number of intervals that we need to remove so that the remainder is non-overlapping.  \n",
    "\n",
    "Note __if intervals have the same edge__ they are _not overlapping_. \n",
    "\n",
    "Breute force solution is to consider _keep/remove_ interval for each interval (i.e., binary decision tree). This solution has time complexity of O(2^n).  \n",
    "\n",
    "Solution to this problem requires `greedy approach`. The order of intervals is random initially. We however can pre-sort them ahead of time. We can sort by _starting point_.  \n",
    "\n",
    "Then, we compare adjacent pair of intervals. We check overlap if a starting point of the second is < than the first one ends. e.g., (1,5) and (2,7). Same is if (1,5) and (2,4). If two arrays overlap we need to remove one. We _will always chose to remove the one that ends before_ so that to minimze the change that it overlaps with another one. \n",
    "\n",
    "The time complexity is O(n\\log(n)) for sorting and iterating is O(n). So sorting is a bottle-neck. \n",
    "\n"
   ]
  },
  {
   "cell_type": "code",
   "execution_count": null,
   "metadata": {},
   "outputs": [],
   "source": [
    "from typing import List\n",
    "class Solution:\n",
    "    def eraseOverlapIntervals(self, intervals: List[List[int]]) -> int:\n",
    "        intervals.sort(key=lambda x: x[0])\n",
    "        res = 0 # count to be removed\n",
    "        # keep track of the first end value in the sorted list\n",
    "        prev_end = intervals[0][1] # \n",
    "        # iterate over entire array\n",
    "        for (start,end) in intervals[1:]: # skipping the first\n",
    "            # check if overlap\n",
    "            if (start >= prev_end) :\n",
    "                # not overlapping case\n",
    "                prev_end = end\n",
    "            else:\n",
    "                # overlapping case\n",
    "                res+=1\n",
    "                # check which one is to remove\n",
    "                # we do not need to remove it from the data, we just need to skip over it in counting\n",
    "                prev_end = min(end, prev_end) # we keep the shortest\n",
    "        return res\n"
   ]
  }
 ],
 "metadata": {
  "language_info": {
   "name": "python"
  }
 },
 "nbformat": 4,
 "nbformat_minor": 2
}
