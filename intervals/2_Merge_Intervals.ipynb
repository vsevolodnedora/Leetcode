{
 "cells": [
  {
   "cell_type": "markdown",
   "metadata": {},
   "source": [
    "# 56. Merge Intervals\n",
    "\n",
    "[leetcode](https://leetcode.com/problems/merge-intervals/)\n",
    "\n",
    "Given an array of intervals where intervals[i] = [starti, endi], merge all overlapping intervals, and return an array of the non-overlapping intervals that cover all the intervals in the input.\n",
    "\n",
    "# Reasoning\n",
    "\n",
    "[neetcodevideo](https://www.youtube.com/watch?v=44H3cEC2fFM&ab_channel=NeetCode)\n",
    "\n",
    "Interval is a list of two numbers, start and end. We need to merge intervals. \n",
    "\n",
    "An efficient way to do that is to pre-sort intervals. (sort by start values). \n",
    "Key is to draw a number line\n",
    "\n",
    "\n"
   ]
  },
  {
   "cell_type": "code",
   "execution_count": null,
   "metadata": {},
   "outputs": [],
   "source": [
    "from typing import List\n",
    "class Solution:\n",
    "    def merge(self, intervals: List[List[int]]) -> List[List[int]]:\n",
    "        \"\"\" time complexity os O(n*log(n)) \"\"\"\n",
    "        # sort by the start value\n",
    "        intervals.sort(key=lambda i : i[0])\n",
    "        # output\n",
    "        output = [intervals[0]] # to avoid edge cases\n",
    "        for st, end in intervals[1:]:\n",
    "            curr = output[-1]\n",
    "            curr_end = curr[-1]\n",
    "            if (st <= curr_end):\n",
    "                # overlap (account for if the first array last end > the inserted one)\n",
    "                output[-1][1] = max(curr_end,end)\n",
    "            else:\n",
    "                # add to the output\n",
    "                output.append([st,end])\n",
    "        return output\n"
   ]
  },
  {
   "cell_type": "code",
   "execution_count": null,
   "metadata": {},
   "outputs": [],
   "source": []
  }
 ],
 "metadata": {
  "language_info": {
   "name": "python"
  }
 },
 "nbformat": 4,
 "nbformat_minor": 2
}
