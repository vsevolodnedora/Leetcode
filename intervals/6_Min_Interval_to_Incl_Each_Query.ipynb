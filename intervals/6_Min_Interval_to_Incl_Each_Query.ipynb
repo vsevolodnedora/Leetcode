{
 "cells": [
  {
   "cell_type": "markdown",
   "metadata": {},
   "source": [
    "1851. Minimum Interval to Include Each Query\n",
    "\n",
    "[leetcode](https://leetcode.com/problems/minimum-interval-to-include-each-query/description/)\n",
    "\n",
    "You are given a 2D integer array intervals, where intervals[i] = [lefti, righti] describes the ith interval starting at lefti and ending at righti (inclusive). The size of an interval is defined as the number of integers it contains, or more formally righti - lefti + 1.\n",
    "\n",
    "You are also given an integer array queries. The answer to the jth query is the size of the smallest interval i such that lefti <= queries[j] <= righti. If no such interval exists, the answer is -1.\n",
    "\n",
    "Return an array containing the answers to the queries.\n",
    "\n",
    "[neetcodevideo](https://www.youtube.com/watch?v=5hQ5WWW5awQ&ab_channel=NeetCode)\n",
    "\n",
    "Here we need to \n",
    "1) Sort both arryas \n",
    "2) Use `minheap` to populate it \n",
    "\n",
    "We pop from left to right the intervals added to the min heap.  \n",
    "\n",
    "Tie-breaker between equal intervlas is the _right value_ we pop the one with the smaller right value.  \n",
    "\n",
    "Minheap contains (size,right_val) \n",
    "We populate our min heap for each query (going rhough all overlapping arrays).  \n",
    "\n",
    "Recall, we softed out queries, so we need to keep a track on how to keep the order. We weill use `hash map`. "
   ]
  },
  {
   "cell_type": "code",
   "execution_count": null,
   "metadata": {},
   "outputs": [],
   "source": [
    "from typing import List\n",
    "import heapq\n",
    "class Solution:\n",
    "    def minInterval(self, intervals: List[List[int]], queries: List[int]) -> List[int]:\n",
    "        intervals.sort()\n",
    "        minheap = [] # later use heapify\n",
    "        res, i = {}, 0 # res - hsh map and i = beginning of interval\n",
    "        # we need to keep order of quieries\n",
    "        for q in sorted(queries): # this creats a copy of original array\n",
    "            # map quiery to the length of the smallest interval it belongs to \n",
    "            # later get array from it\n",
    "            # check if index is in bounds (add vals to meanheap untill end of query)\n",
    "            while (i < len(intervals)) and intervals[i][0] <= q:\n",
    "                l,r = intervals[i]\n",
    "                heapq.heappush(minheap,(r-l+1, r)) # interval size and right value\n",
    "                i+=1\n",
    "                # untill we run out of intervals or we are too far right\n",
    "            #after we run out of intervals or the interval is too far for the query\n",
    "            # now pop from the min heap to get rid of intervals that this query does \n",
    "            # not belong to. \n",
    "            while minheap and minheap[0][1] < q: # the smallest interval\n",
    "                heapq.heappop(minheap) # pop intervals that are too far to to the right\n",
    "            res[q] = minheap[0][0] if minheap else -1 # if there are no intervlas\n",
    "        return [res[q] for q in queries]\n"
   ]
  }
 ],
 "metadata": {
  "language_info": {
   "name": "python"
  }
 },
 "nbformat": 4,
 "nbformat_minor": 2
}
