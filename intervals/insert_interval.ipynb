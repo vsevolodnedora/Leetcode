{
 "cells": [
  {
   "cell_type": "markdown",
   "metadata": {},
   "source": [
    "# 57. Insert Interval\n",
    "\n",
    "[leetcode](https://leetcode.com/problems/insert-interval/)\n",
    "\n",
    "You are given an array of non-overlapping intervals intervals where intervals[i] = [starti, endi] represent the start and the end of the ith interval and intervals is sorted in ascending order by starti. You are also given an interval newInterval = [start, end] that represents the start and end of another interval.\n",
    "\n",
    "Insert newInterval into intervals such that intervals is still sorted in ascending order by starti and intervals still does not have any overlapping intervals (merge overlapping intervals if necessary).\n",
    "\n",
    "Return intervals after the insertion.\n",
    "\n",
    "Note that you don't need to modify intervals in-place. You can make a new array and return it.\n",
    "\n",
    "# Reasoning\n",
    "\n",
    "[neetcodevideo](https://www.youtube.com/watch?v=VFskby7lUbw&ab_channel=NeetCode)\n",
    "\n",
    "Interval is a list of two numbers with a start and end.  \n",
    "\n",
    "We need to interate though sorted intervals and find an insertion point.  \n",
    "\n",
    "If intervals overlap, we merge them as min(left) and max(right).  \n",
    "\n",
    "If the result overlaps with the next interval, we merge them again.  \n",
    "\n",
    "Time and memory complexity is O(n)\n"
   ]
  },
  {
   "cell_type": "code",
   "execution_count": null,
   "metadata": {},
   "outputs": [],
   "source": [
    "from typing import List\n",
    "class Solution:\n",
    "    def insert(self, intervals: List[List[int]], newInterval: List[int]) -> List[List[int]]:\n",
    "        res = []\n",
    "\n",
    "        for i in range(len(intervals)):\n",
    "            # iterate through sorted array\n",
    "            # check overlap at the start\n",
    "            if newInterval[1] < intervals[i][0]: # check if end is < start of the curr\n",
    "                res.append(newInterval)\n",
    "                # other intervals remain non-overlapping\n",
    "                return res + intervals[i:]\n",
    "            elif (newInterval[0] > intervals[i][1]): # if new interval goes after the current one\n",
    "                res.append(intervals[i])\n",
    "                # may still overlap with others\n",
    "            else: # if there is an overlap -- merge\n",
    "                newInterval = [min(newInterval[0], intervals[i][0]),\n",
    "                               max(newInterval[1], intervals[i][1])]\n",
    "                # check if it overlaps with other intervals\n",
    "        # append the new interval to the result\n",
    "        res.append(newInterval)\n",
    "        return res"
   ]
  }
 ],
 "metadata": {
  "language_info": {
   "name": "python"
  }
 },
 "nbformat": 4,
 "nbformat_minor": 2
}
