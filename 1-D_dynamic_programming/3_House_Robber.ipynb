{
 "cells": [
  {
   "cell_type": "markdown",
   "metadata": {},
   "source": [
    "# 198. House Robber\n",
    "\n",
    "[leetcode](https://leetcode.com/problems/house-robber/description/)\n",
    "\n",
    "You are a professional robber planning to rob houses along a street. Each house has a certain amount of money stashed, the only constraint stopping you from robbing each of them is that adjacent houses have security systems connected and it will automatically contact the police if two adjacent houses were broken into on the same night.\n",
    "\n",
    "Given an integer array nums representing the amount of money of each house, return the maximum amount of money you can rob tonight without alerting the police.\n",
    "\n",
    "# Reasoning\n",
    "\n",
    "[neetcodevideo](https://www.youtube.com/watch?v=73r3KWiEvyk)\n",
    "\n",
    "The brute force approach is to iterate over _all combinations_ of the houses. \n",
    "Consider an array [1,2,3,1] We can only take en element, if it is not adjacent to the previos one. So we start with the first one and build a decision tree. The tree, however _is not a binary tree_. We can pick any element. \n",
    "\n",
    "- Take the first element '1'. \n",
    "- Chose the maximum that can be gained from [3,1] (subproblem)\n",
    "    -> 1 -> 3 (better option - total 4)\n",
    "         -> 1\n",
    "- Chose a different initial \n",
    "    -> 2 -> 1 (wose option as we got worse)\n",
    "\n",
    "This can be very computational expensive as for large arrays\n",
    "\n",
    "## Efficient solution\n",
    "\n",
    "Find subproblems and solve them first. We not that we need to continously shrink the array after we chose one. \n",
    "\n",
    "__Determine recurrance relationship__ to break down the _dynamic problems_.  \n",
    "We notice that the result of the _entire problem_ depends on two choices: \n",
    "- Rob the first arr[0], skip one, and then the rest. Or skip the first one and rob the rest. e.g, \n",
    "```python\n",
    "rob = max(arr[0] + rob(arr([2:n]), \n",
    "          rob([1:]))\n",
    "```\n",
    "\n",
    "## Top-Down DP approach\n",
    "\n",
    "Starting from the beginning. It is a base case.  \n",
    "We start by chosing to either rub arr[0] or arr[1]. The second iteration we chose arr[1] or arr[2]. \n",
    "At each point we chose the max form the previos two steps.  \n",
    "\n",
    "```python\n",
    "arr = [1, 2, 3, 1] # given cost for robbery \n",
    "val = [1, 2, 4, 4] # what we store after making a choice\n",
    "```\n",
    "\n",
    "__NOTE__ the space complexity can be O(1) if we store only the last two values instead of saving the values for the enitre array.  We only need to store the _last two maxis_\n"
   ]
  },
  {
   "cell_type": "code",
   "execution_count": null,
   "metadata": {},
   "outputs": [],
   "source": [
    "from typing import List\n",
    "class Solution:\n",
    "    def rob(self, nums: List[int]) -> int:\n",
    "        # we chose to store only the last two variables\n",
    "        rob1, rob2 = 0, 0 # if nums empty -> return 0\n",
    "        for n in nums:\n",
    "            # compute maximum of robbed untill the value n\n",
    "            # rob1, rob2, n, n+1, ...\n",
    "            # if rob n we need to rob1, however if we do rob2 we cannot do n\n",
    "            temp = max(n + rob1, # including the gab \n",
    "                       rob2) # including the previos house \n",
    "            # update\n",
    "            rob1 = rob2\n",
    "            rob2 = temp\n",
    "        return rob2 # this is the last value "
   ]
  }
 ],
 "metadata": {
  "language_info": {
   "name": "python"
  }
 },
 "nbformat": 4,
 "nbformat_minor": 2
}
