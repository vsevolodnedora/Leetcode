{
 "cells": [
  {
   "cell_type": "markdown",
   "metadata": {},
   "source": [
    "# 416. Partition Equal Subset Sum\n",
    "\n",
    "[leetcode](https://leetcode.com/problems/partition-equal-subset-sum/description/)\n",
    "\n",
    "Given an integer array nums, return true if you can partition the array into two subsets such that the sum of the elements in both subsets is equal or false otherwise.\n",
    "\n",
    "# Reasoning\n",
    "\n",
    "[neetcodevideo](https://www.youtube.com/watch?v=IsvocB5BJhw)\n",
    "\n",
    "Each partition should have the exactly half of the original array.  \n",
    "\n",
    "We only need to check if it is possible.  \n",
    "\n",
    "We also need to find only one partition taht gives 1/2 of the total. \n",
    "\n",
    "Brute force solution:  \n",
    "Start with first value, check if you can start with it to start summing. Repeat with the second value. Thus, we build a binary tree choosing at each point whether to add a value or not.  \n",
    "\n",
    "The hight of the _decision tree_ is n and the time complexity of the algorithm is O(2^n)\n",
    "\n",
    "__NOTE__ there is repeated work here, as as we move alond the array, our sum is decreaing and we repeat the analysis for the same values of remaining sum. \n",
    "These values can be __cahsed__. The dimension of the cash is 'n'.  This is `memoization technique`. \n",
    "\n",
    "Time complexity of the alorithm is O(n * sum(nums)) \n",
    "\n",
    "This is `backtracking` solution with cash\n",
    "\n",
    "Memory complexity can be imporived with `dynamic programming`.  \n",
    "\n",
    "Building a `recurrance relation` for `bachward solution` is by costructing a `set` for each interation of adding values going from back of  the array to the front. The memory complexity of this approach is O(sum(nums))"
   ]
  },
  {
   "cell_type": "code",
   "execution_count": 1,
   "metadata": {},
   "outputs": [],
   "source": [
    "from typing import List\n",
    "class Solution:\n",
    "    def canPartition(self, nums: List[int]) -> bool:\n",
    "        if sum(nums) % 2 == 1: return False # we cannot do for odd number \n",
    "        dp = set() # our hash\n",
    "        dp.add(0) # base case (we can always add t 0)\n",
    "        target = sum(nums) // 2 # we only need 1/2\n",
    "        for i in range(len(nums)-1,-1,-1): # iterate in reverse order\n",
    "            next_dp = set() # for iterating (we cannot change array we are iterating over)\n",
    "            for t in dp: # go thorugh every value already in dp\n",
    "                next_dp.add(t+nums[i]) #\n",
    "                next_dp.add(t) # store the previos value as well\n",
    "            dp = next_dp # re-assign \n",
    "        return True if target in dp else False"
   ]
  },
  {
   "cell_type": "code",
   "execution_count": null,
   "metadata": {},
   "outputs": [],
   "source": []
  }
 ],
 "metadata": {
  "kernelspec": {
   "display_name": "Python 3",
   "language": "python",
   "name": "python3"
  },
  "language_info": {
   "codemirror_mode": {
    "name": "ipython",
    "version": 3
   },
   "file_extension": ".py",
   "mimetype": "text/x-python",
   "name": "python",
   "nbconvert_exporter": "python",
   "pygments_lexer": "ipython3",
   "version": "3.10.12"
  }
 },
 "nbformat": 4,
 "nbformat_minor": 2
}
