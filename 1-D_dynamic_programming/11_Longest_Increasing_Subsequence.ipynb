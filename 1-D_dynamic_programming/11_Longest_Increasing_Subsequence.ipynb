{
 "cells": [
  {
   "cell_type": "markdown",
   "metadata": {},
   "source": [
    "# 300. Longest Increasing Subsequence\n",
    "\n",
    "[leetcode](https://leetcode.com/problems/longest-increasing-subsequence/description/)\n",
    "\n",
    "Given an integer array nums, return the length of the longest strictly increasing \n",
    "subsequence\n",
    "\n",
    "A subsequence is an array that can be derived from another array by deleting some or no elements without changing the order of the remaining elements.\n",
    "\n",
    "# Reasoning\n",
    "\n",
    "[neetcodevideo](https://www.youtube.com/watch?v=cjWnW0hdF1Y&ab_channel=NeetCode)\n",
    "\n",
    "__NOTE__ a subarray does not need to be continous.  \n",
    "In a given array, numbers are not in an increasing order. Thus, we would need to replace/mask. \n",
    "\n",
    "_Bute force solution_: Using DFS and check every possible subsequence in the given array. Build a binary tree where each value has two choices, either to include it or not. This algorithm has O(2^n) complexity. \n",
    "\n",
    "This can be imporved by including `hashing`. We can check starting from each index i and find the longest subsequence from this starting point. Thus we are building a tree, where each branch is associated with the index. Then, we repeat. \n",
    "\n",
    "Consider example [1,2,4,3]. Start with dummy node 0. \n",
    "\n",
    "0 -> 01 -> 012 -> 0134 ... \n",
    "\n",
    "Other branches are shorter. \n",
    "\n",
    "__NOTE__: here we do repeated work by repeatedly searching for values that come after a given index. So we can cash the longest subsequence for a given sequence. Thus, we can check for each index if we already have a saved value for it. \n",
    "\n",
    "__NOTE__: recursively we start at the _last index_ and work our way forward.  \n",
    "\n",
    "### Dynamic solution\n",
    "\n",
    "We start at the last index. This is the base case. LIS[3] = 1 for our example. \n",
    "The LIS[2] can be found by comsidering both possibilities as \n",
    "LIS[i-1] = max(1,1+LIS[i])   # i = 3 -> 1\n",
    "LIS[i-2] = max(1,1+LIS[i-1],1+LIS[i]) # i = 2 -> 2\n",
    "LIS[i] = max(1,1+LIS[i-2],1+LIS[i-1],1+LIS[i]) # i=0\n",
    "\n",
    "The time complexity of the DP solution is O(n^2), as we loop over each values twice. \n"
   ]
  },
  {
   "cell_type": "code",
   "execution_count": null,
   "metadata": {},
   "outputs": [],
   "source": [
    "class Solution:\n",
    "    def lengthOfLIS(self, nums: List[int]) -> int:\n",
    "        # create hash/list every longest subsequence for each element of array\n",
    "        lis = [1] * len(nums)\n",
    "        for i in range(len(nums-1),1,-1):\n",
    "            # start at the end and iterated through every subsequence\n",
    "            for j in range(i+1,len(nums)):\n",
    "                # check if the value at i is less than the value of j\n",
    "                if nums[i] < nums[j]:\n",
    "                    # update \n",
    "                    lis[i] = max(lis[i],1+lis[j]) # as j is always increasing\n",
    "        return max(lis) # this is O(n^2) solution"
   ]
  }
 ],
 "metadata": {
  "language_info": {
   "name": "python"
  }
 },
 "nbformat": 4,
 "nbformat_minor": 2
}
