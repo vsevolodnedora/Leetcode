{
 "cells": [
  {
   "cell_type": "markdown",
   "metadata": {},
   "source": [
    "# 322. Coin Change\n",
    "\n",
    "[leetcode](https://leetcode.com/problems/coin-change/)\n",
    "\n",
    "You are given an integer array coins representing coins of different denominations and an integer amount representing a total amount of money.\n",
    "\n",
    "Return the fewest number of coins that you need to make up that amount. If that amount of money cannot be made up by any combination of the coins, return -1.\n",
    "\n",
    "You may assume that you have an infinite number of each kind of coin.\n",
    "\n",
    "# Reasoning\n",
    "\n",
    "[neetcodevideo](https://www.youtube.com/watch?v=H9bfqozjoqs&t=17s)\n",
    "\n",
    "Can we use a _greedy_ approach? Start with the biggest coin and see what we need to add. This will not work, as we might not even have a required value coin to complete the amount. Thus, we cannot be gready. \n",
    "\n",
    "Consdier a brute force solution with _DFS_ or _backtracking_ solution.  \n",
    "A _backtracking_ solution we build a _decision tree_ where at the root we have len(coins) number of branches. Than, after the split, we will have _remaining_ value for each tree.  \n",
    "__NOTE__: in this solution we keep splitting the tree at each iteration, keeping a track on _remaining_ value and continouing only branches that have _remaining_ > 0.  \n",
    "\n",
    "__NOTE__: the branches in the tree are __repaeated__ for the same values of _remaining_. Thus, if we compute it once, we can just use the same value again. \n",
    "\n",
    "__NOTE__: we can also keep track on the current _min coins used_ to reach the solution. If a given branch of a tree exceeds it, we can stop proceeding down to ot. \n",
    "\n",
    "This is __Top-down memoization solution__\n",
    "\n",
    "A True dynamic solution is a _Bottom Up_ solution, where we solve the problem in reverse. We start with 0 and check what is the minimum number of coins to sum to 0. Then, we add '1' and see what is the minimum number of coins to sum to 1. Same for '2' and it is the DP[2] = 1 + DP[1], so the _dynamic part is_ \n",
    "- DP[i] = 1 + DP[i-1]\n",
    "\n",
    "The time complexity of this solution is O(amount * len(coins))"
   ]
  },
  {
   "cell_type": "code",
   "execution_count": null,
   "metadata": {},
   "outputs": [],
   "source": [
    "from typing import List\n",
    "class Solution:\n",
    "    def coinChange(self, coins: List[int], amount: int) -> int:\n",
    "        # use bottom-up DP\n",
    "        dp = [float('infty')] * (amount + 1) # from 0 to amount (so we added)\n",
    "        dp[0] = 0 # it takes zero coins to get to 0\n",
    "        for a in range(1, amount + 1): # reverse order, bottom-up\n",
    "            # still in a brute force, -> for each coin\n",
    "            for c in coins:\n",
    "                if a - c >=0 : # we can continoue searching\n",
    "                    # write the recurrance relation\n",
    "                    remaining = dp[a-c]\n",
    "                    dp[a] = min(dp[a], 1 + remaining)\n",
    "        return dp[amount] if dp[amount] != float('infty') else -1"
   ]
  }
 ],
 "metadata": {
  "language_info": {
   "name": "python"
  }
 },
 "nbformat": 4,
 "nbformat_minor": 2
}
