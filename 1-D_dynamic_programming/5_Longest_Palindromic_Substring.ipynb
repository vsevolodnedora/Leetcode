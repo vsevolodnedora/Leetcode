{
 "cells": [
  {
   "cell_type": "markdown",
   "metadata": {},
   "source": [
    "# 5. Longest Palindromic Substring\n",
    "\n",
    "[leetcode](https://leetcode.com/problems/longest-palindromic-substring/description/)\n",
    "\n",
    "Given a string s, return the longest \n",
    "palindromic substring in s.\n",
    "\n",
    "# Reasoning\n",
    "\n",
    "[neetcodevideo](https://www.youtube.com/watch?v=XYQecbcd6_c&t=1s)\n",
    "\n",
    "Given a string, we need to return the longest palindrom. A palindrom is a string that reads the same back and forth.  \n",
    "\n",
    "The bruteforce solution is to check each substring in the string and check if it is a palindrome and return the longest one.  \n",
    "\n",
    "The time complexity to check if it is a palindrom is O(n), where n is the length of a string, which is a linear scan.  \n",
    "\n",
    "To find all substrings in a string is O(n^2) time complexity.  \n",
    "\n",
    "So, the _overall time complexity_ is O(n * n^2), which is O(n^3).  \n",
    "\n",
    "### Clever way\n",
    "\n",
    "We can check if a string a palindrome by using a 'two pointer' approach. Or we can start at the middle and check at each iteration the characters at the sides.  \n",
    "\n",
    "This we can set a pointer that goes linearly, ant at each point we 'scan' left and right with two additional pointers. \n",
    "\n",
    "The overall time cimplexity of this approach is O(n^2).  \n",
    "\n",
    "However, there is an edge case where the string initially is _even_ and it has to be accounter for. "
   ]
  },
  {
   "cell_type": "code",
   "execution_count": null,
   "metadata": {},
   "outputs": [],
   "source": [
    "class Solution:\n",
    "    def longestPalindrome(self, s: str) -> str:\n",
    "        # init result\n",
    "        res = \"\"\n",
    "        resLen = 0\n",
    "        # go throug each position\n",
    "        for i in range(len(s)):\n",
    "            # chekc odd length palindromes\n",
    "            l,r= i,i # for scanning\n",
    "            while l >= 0 and r < len(s) and s[l] == s[r]: \n",
    "                # while in bound & palindrome\n",
    "                if (r-l+1) > resLen: \n",
    "                    resLen = r-l+1\n",
    "                    res = s[l:r+1]\n",
    "                l-=1\n",
    "                r+=1\n",
    "\n",
    "            # check even length \n",
    "            l,r=i,i+1\n",
    "            while l >= 0 and r < len(s) and s[l] == s[r]: \n",
    "                # while in bound & palindrome\n",
    "                if (r-l+1) > resLen: \n",
    "                    resLen = r-l+1\n",
    "                    res = s[l:r+1]\n",
    "                l-=1\n",
    "                r+=1\n",
    "        return res\n",
    "\n"
   ]
  }
 ],
 "metadata": {
  "language_info": {
   "name": "python"
  }
 },
 "nbformat": 4,
 "nbformat_minor": 2
}
