{
 "cells": [
  {
   "cell_type": "markdown",
   "metadata": {},
   "source": [
    "# 746. Min Cost Climbing Stairs\n",
    "\n",
    "[leetcode](https://leetcode.com/problems/min-cost-climbing-stairs/description/)\n",
    "\n",
    "You are given an integer array cost where cost[i] is the cost of ith step on a staircase. Once you pay the cost, you can either climb one or two steps.\n",
    "\n",
    "You can either start from the step with index 0, or the step with index 1.\n",
    "\n",
    "Return the minimum cost to reach the top of the floor.\n",
    "\n",
    "# Reasoning\n",
    "\n",
    "[neetcodevideo](https://www.youtube.com/watch?v=ktmzAZWkEZ0)\n",
    "\n",
    "__NOTE__: if you take the top position _it is not a top floor_, thus we need to take a step that bring us to the n+1 position (beyond the starecase).  \n",
    "The complexity here is that the optimal path requires an optimization.  \n",
    "A _greedy_ approach, -- just taking two steps -- may lead to a very large cost.  \n",
    "We need to find a _sequence of steps_ that __minimizes the cost__. \n",
    "\n",
    "## Bruteforce solution\n",
    "\n",
    "Consider all combinations of all possiblities. This can be visualized by building _a decision tree_. At each time we take a step, we _pay a cost_. For a set\n",
    "```python\n",
    "arr = [10, 15, 20]\n",
    "```\n",
    "we have 3 final leafs and 3 paths to reach the final stel. \n",
    "\n",
    "__NOTE__: we can start either from position 0 or from position 1. So, we technically have to solve the prblem twice, once for starting at 0 and then starting at 1. \n",
    "\n",
    "However, we notice that the second decision tree would be _inside_ the previos one. So we do not need to repeat it.  \n",
    "\n",
    "A simple decision tree is an exponental problem as we continue to grow the tree and the final tree would be n=len(cost). The time complexity is O(2^n).  \n",
    "\n",
    "__NOTE__: If we remove the repeated work, we can solve this problem with time complexity O(n). This require `hashing` the repeated work result. Then we need to solve n subproblems. And the solution is O(n) in memory.  \n",
    "\n",
    "## Dynamic solution\n",
    "\n",
    "We can make the space complexity better, by storing only the two values for two previos steps.  \n",
    "\n",
    "`!` We solve the sub-pborblems first and then the main problem. This is `bottom-up DP approach`.  \n",
    "\n",
    "Remember, that we have two path from each point to the next, we can eather take one step or two. Thus we need to store two values, the previos jump. \n",
    "```python\n",
    "arr = [[..., 15,    20,   0] # where 0 is where we want to be\n",
    "       [..., 15   , 15+20  ]] # cost that would take us to get tot he zero from the point at 15\n",
    "```\n",
    "The best path is then min(15+20,15+0)\n"
   ]
  },
  {
   "cell_type": "code",
   "execution_count": null,
   "metadata": {},
   "outputs": [],
   "source": [
    "from typing import List\n",
    "class Solution:\n",
    "    def minCostClimbingStairs(self, cost: List[int]) -> int:\n",
    "        # have an extra 0 at the beginning of the array\n",
    "        cost.append(0)\n",
    "        # interate in reverse order, starting it the n-1 index as we added 0\n",
    "        for i in range(len(cost)-3,-1,-1): # if it is [10,15,20] 0 we want to start at 15 \n",
    "            # two options [15->20->End] or [15->End]; we need minimum\n",
    "            cost_one_jump = cost[i] + cost[i+1]\n",
    "            cost_two_jump = cost[i] + cost[i+2]\n",
    "            best_cost = min(cost_one_jump,cost_two_jump)\n",
    "            # update the current cost\n",
    "            cost[i] = best_cost # cost to get to the end from the 'i' position\n",
    "        return min(cost[0],cost[1]) # becase we can either start from 0 or from 1 and because we are guaranted to have at least two solutions"
   ]
  }
 ],
 "metadata": {
  "language_info": {
   "name": "python"
  }
 },
 "nbformat": 4,
 "nbformat_minor": 2
}
