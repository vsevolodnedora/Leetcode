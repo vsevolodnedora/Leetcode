{
 "cells": [
  {
   "cell_type": "markdown",
   "metadata": {},
   "source": [
    "# 152. Maximum Product Subarray\n",
    "\n",
    "[leetcode](https://leetcode.com/problems/maximum-product-subarray/description/)\n",
    "\n",
    "Given an integer array nums, find a subarray\n",
    " that has the largest product, and return the product.\n",
    "\n",
    "The test cases are generated so that the answer will fit in a 32-bit integer.\n",
    "\n",
    "# Reasoning\n",
    "\n",
    "[neetcodevideo](https://www.youtube.com/watch?v=lXVy6YWFcRM&ab_channel=NeetCode)\n",
    "\n",
    "The brute force solution is to go with two pointers, left and right, and scroll through all the elements. The time complexity is then O(n^2). \n",
    "\n",
    "There is a faster solution, a pattern that we can exploit.  \n",
    "If all elements are positive, the result increases as we add more elements. \n",
    "\n",
    "If numbers are all negative, it is more complicated. Here the result is changing depending on whether it is an _odd_ or an _even_ number of elements. \n",
    "Consequetive negative numbers give alternating sign.  \n",
    "If the consequtive numbers are the same sign, however, the result is positive (for two numbers).  \n",
    "\n",
    "A subproblem here is multiplying tho numbers. Identify the maximum and _minimum_ product of a subarray. This allows to account for the negative values. At the next iteration we just multiply the result with the next value and get both maximum and minium from that. Each time we update the _min_ and _max_. \n",
    "- A positive value is multiplied by a max. \n",
    "- A negative value is mutliplied by a min. \n",
    "\n",
    "`!` Edge case: \n",
    "- If there is 0, it will nullify everything. \n",
    "\n",
    "Each time there is 0, we reset the max and min to 1.  \n",
    "This resets te counter of maxs and mins.  "
   ]
  },
  {
   "cell_type": "code",
   "execution_count": 3,
   "metadata": {},
   "outputs": [
    {
     "name": "stdout",
     "output_type": "stream",
     "text": [
      "12 exp = 12\n"
     ]
    }
   ],
   "source": [
    "from typing import List\n",
    "class Solution:\n",
    "    def maxProduct(self, nums: List[int]) -> int:\n",
    "        res = max(nums) # 0 -> [-1]; We do not want to keep 0th\n",
    "        cur_min = 1\n",
    "        cur_max = 1\n",
    "        for n in nums:\n",
    "            if n == 0: # we do not need to add 0th , we replace the with 1\n",
    "                cur_max,cur_min = 1, 1\n",
    "                continue\n",
    "            # recompute the min,max\n",
    "            tmp = cur_max # not sure why we multiply here by n as well\n",
    "            cur_max = max(n * cur_max, n * cur_min, n) # note, that n >> cur_max, so add n\n",
    "            cur_min = min(n * cur_min, n * tmp, n) # using old cur_max\n",
    "            res = max(res, cur_max)\n",
    "        return res\n",
    "sol = Solution()\n",
    "print(sol.maxProduct([-4,-3,-2]),\"exp = 12\")"
   ]
  },
  {
   "cell_type": "code",
   "execution_count": null,
   "metadata": {},
   "outputs": [],
   "source": []
  }
 ],
 "metadata": {
  "kernelspec": {
   "display_name": "base",
   "language": "python",
   "name": "python3"
  },
  "language_info": {
   "codemirror_mode": {
    "name": "ipython",
    "version": 3
   },
   "file_extension": ".py",
   "mimetype": "text/x-python",
   "name": "python",
   "nbconvert_exporter": "python",
   "pygments_lexer": "ipython3",
   "version": "3.10.9"
  }
 },
 "nbformat": 4,
 "nbformat_minor": 2
}
