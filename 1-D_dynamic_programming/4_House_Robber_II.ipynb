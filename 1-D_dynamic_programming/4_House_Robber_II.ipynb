{
 "cells": [
  {
   "cell_type": "markdown",
   "metadata": {},
   "source": [
    "# 213. House Robber II\n",
    "\n",
    "[leetcode](https://leetcode.com/problems/house-robber-ii/description/)\n",
    "\n",
    "You are a professional robber planning to rob houses along a street. Each house has a certain amount of money stashed. All houses at this place are arranged in a circle. That means the first house is the neighbor of the last one. Meanwhile, adjacent houses have a security system connected, and it will automatically contact the police if two adjacent houses were broken into on the same night.\n",
    "\n",
    "Given an integer array nums representing the amount of money of each house, return the maximum amount of money you can rob tonight without alerting the police.\n",
    "\n",
    "# Reasoning\n",
    "\n",
    "[neetcodevideo](https://www.youtube.com/watch?v=rWAJCfYYOvM)\n",
    "\n",
    "__NOTE__: here the chouses are arraynced in a circle. So, the last house is adjacent to the first one.  \n",
    "We can _reuse_ the solution from the previos problem.  \n",
    "\n",
    "The original problem was solved using `top-down DP approach`, where we start from the first two, making a choice, and move to the next pair, chosing the maximum, as \n",
    "```python\n",
    "rob = max(arr[0]+rob(arr[2:]), rob[1:])\n",
    "```\n",
    "where we always have a choice beween robbing house 0, skipping 1 and continouing to rob, or skip 0 and rob from the next onwards. \n",
    "\n",
    "Here we need to reuse that solution but account for the fact that the last and the first houses are connected. We thus, need to run the previos alorithm on two options\n",
    "- Starting from 0 and excluding the last value (as it is connected)\n",
    "- Starting from the 1 and running it to the end \n",
    "\n",
    "So we need to run the algorithm twice. \n",
    "\n",
    "The house robber algorithm os O(n) time and O(1) space complecity.  "
   ]
  },
  {
   "cell_type": "code",
   "execution_count": 1,
   "metadata": {},
   "outputs": [],
   "source": [
    "from typing import List\n",
    "class Solution:\n",
    "\n",
    "    def helper(self, nums):\n",
    "        \"\"\" helper function from the phouse robber I problem \"\"\"\n",
    "        rob1, rob2 = 0, 0# max from prev. two\n",
    "        for n in nums:\n",
    "            newRob = max(rob1+n,# skip rob2\n",
    "                         rob2) # skip rob1\n",
    "            rob1 = rob2\n",
    "            rob2 = newRob\n",
    "        return rob2 # max amount we can rob from the entire array\n",
    "\n",
    "\n",
    "    def rob(self, nums: List[int]) -> int:\n",
    "        # if the input array has only one element we can return it\n",
    "        if (len(nums)) == 1: return nums[0]\n",
    "\n",
    "        # skip the first house \n",
    "        v1 = self.helper(nums[1:])\n",
    "        # skip the last house\n",
    "        v2 = self.helper(nums[:-1])\n",
    "        res = max(v1,v2)\n",
    "        return res\n"
   ]
  },
  {
   "cell_type": "code",
   "execution_count": null,
   "metadata": {},
   "outputs": [],
   "source": []
  }
 ],
 "metadata": {
  "kernelspec": {
   "display_name": "Python 3",
   "language": "python",
   "name": "python3"
  },
  "language_info": {
   "codemirror_mode": {
    "name": "ipython",
    "version": 3
   },
   "file_extension": ".py",
   "mimetype": "text/x-python",
   "name": "python",
   "nbconvert_exporter": "python",
   "pygments_lexer": "ipython3",
   "version": "3.10.12"
  }
 },
 "nbformat": 4,
 "nbformat_minor": 2
}
