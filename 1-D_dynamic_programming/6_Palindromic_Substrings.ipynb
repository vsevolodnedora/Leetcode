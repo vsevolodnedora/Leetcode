{
 "cells": [
  {
   "cell_type": "markdown",
   "metadata": {},
   "source": [
    "# 647. Palindromic Substrings\n",
    "\n",
    "[leetcode](https://leetcode.com/problems/palindromic-substrings/description/)\n",
    "\n",
    "Given a string s, return the number of palindromic substrings in it.\n",
    "\n",
    "A string is a palindrome when it reads the same backward as forward.\n",
    "\n",
    "A substring is a contiguous sequence of characters within the string.\n",
    "\n",
    "# Reasoning\n",
    "\n",
    "[neetcodevideo](https://www.youtube.com/watch?v=4RACzI5-du8)\n",
    "\n",
    "This is from __Blind75__ list, and it is similar to _longest palindromic substring_ problem.  \n",
    "\n",
    "__NOTE__: palindromic strings may be either _odd_ or _even_ size.  \n",
    "\n",
    "The bruteforce solution, O(n^3) solution is as follows.  \n",
    "\n",
    "We need to go through each substring, as we have a pointer that moves through the aray, the beginning, and another for the end of the substring, and at each iteration, we check if the _current_ substring is a palindrom. This check itself is O(n), and each of the pointers moving through the array is O(n), so the total solution is O(n^3).  \n",
    "\n",
    "A more clever approach is, we go _in both directions_. This is done as follows. We have one pointer that traverses to the left and to the right from the current one. This allows us to compare one character at a time instead of checking the entire substring each time. \n",
    "\n",
    "__NOTE__: with this apprach we only _get palindromes of odd length_. For the even length polindromes we need to _left and right ponters at adjacent positions_.  \n",
    "\n",
    "The overall complexity of this apprach is O(n) for the expansion itself and O(n) for the total string scan, so the total time complexity is O(n^2)"
   ]
  },
  {
   "cell_type": "code",
   "execution_count": null,
   "metadata": {},
   "outputs": [],
   "source": [
    "class Solution:\n",
    "    def countSubstrings(self, s: str) -> int:\n",
    "        res = 0; # count of substrings\n",
    "        for i in range(len(s)):\n",
    "            # odd length palindromes\n",
    "            l=r=i\n",
    "            # while in bounds and is a apalindrome\n",
    "            while l>=0 and r<len(s) and s[l]==s[r]:\n",
    "                # palindrome found\n",
    "                res+=1\n",
    "                l-=1\n",
    "                r+=1\n",
    "            # evel length palindrome\n",
    "            l,r=i,i+1\n",
    "            while l>=0 and r<len(s) and s[l]==s[r]:\n",
    "                # palindrome found\n",
    "                res+=1\n",
    "                l-=1\n",
    "                r+=1\n",
    "        return res\n"
   ]
  }
 ],
 "metadata": {
  "language_info": {
   "name": "python"
  }
 },
 "nbformat": 4,
 "nbformat_minor": 2
}
